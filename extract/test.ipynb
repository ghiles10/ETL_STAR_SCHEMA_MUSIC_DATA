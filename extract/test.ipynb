{
 "cells": [
  {
   "cell_type": "code",
   "execution_count": 7,
   "metadata": {},
   "outputs": [],
   "source": [
    "import sys\n",
    "sys.path.append('/workspaces/AIRFLOW_MUSIC')\n",
    "from util.utils import spark_session\n",
    "import os "
   ]
  },
  {
   "cell_type": "code",
   "execution_count": null,
   "metadata": {},
   "outputs": [],
   "source": [
    "def extract_song(cur, path) :\n",
    "\n",
    "    # spark_session = spark_session()     \n",
    "\n",
    "    # for root, dir, file in os.walk('/workspaces/AIRFLOW_MUSIC/data/song_data'):\n",
    "    #     for f in file: \n",
    "\n",
    "    df = spark_session.read.json(str(os.path.join(root, f)) ) \n",
    "    \n",
    "    # insert song record\n",
    "    df = spark_session.read.json(path)\n",
    "    song_data = tuple((df.select(['song_id', 'title', 'artist_id', 'year', 'duration']).collect()[0]))\n",
    "    cur.execute(song_table_insert, song_data)\n",
    "\n",
    "\n",
    "    # insert artist record\n",
    "    df = spark_session.read.json(path)\n",
    "    song_data = tuple((df.select(['artist_id', 'artist_name', 'artist_location', 'artist_latitude', 'artist_longitude']).collect()[0]))\n",
    "    cur.execute(artist_table_insert, song_data)\n",
    "\n"
   ]
  },
  {
   "cell_type": "code",
   "execution_count": null,
   "metadata": {},
   "outputs": [],
   "source": []
  }
 ],
 "metadata": {
  "kernelspec": {
   "display_name": "Python 3",
   "language": "python",
   "name": "python3"
  },
  "language_info": {
   "codemirror_mode": {
    "name": "ipython",
    "version": 3
   },
   "file_extension": ".py",
   "mimetype": "text/x-python",
   "name": "python",
   "nbconvert_exporter": "python",
   "pygments_lexer": "ipython3",
   "version": "3.10.4"
  },
  "orig_nbformat": 4,
  "vscode": {
   "interpreter": {
    "hash": "3ad933181bd8a04b432d3370b9dc3b0662ad032c4dfaa4e4f1596c548f763858"
   }
  }
 },
 "nbformat": 4,
 "nbformat_minor": 2
}
